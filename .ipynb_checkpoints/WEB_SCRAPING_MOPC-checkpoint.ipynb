{
 "cells": [
  {
   "cell_type": "code",
   "execution_count": 2,
   "metadata": {},
   "outputs": [
    {
     "ename": "ModuleNotFoundError",
     "evalue": "No module named 'selenium'",
     "output_type": "error",
     "traceback": [
      "\u001b[0;31m---------------------------------------------------------------------------\u001b[0m",
      "\u001b[0;31mModuleNotFoundError\u001b[0m                       Traceback (most recent call last)",
      "\u001b[0;32m<ipython-input-2-a774e90aaae0>\u001b[0m in \u001b[0;36m<module>\u001b[0;34m\u001b[0m\n\u001b[1;32m      1\u001b[0m \u001b[0;31m#pip install webdriver_manager\u001b[0m\u001b[0;34m\u001b[0m\u001b[0;34m\u001b[0m\u001b[0;34m\u001b[0m\u001b[0m\n\u001b[0;32m----> 2\u001b[0;31m \u001b[0;32mfrom\u001b[0m \u001b[0mselenium\u001b[0m \u001b[0;32mimport\u001b[0m \u001b[0mwebdriver\u001b[0m\u001b[0;34m\u001b[0m\u001b[0;34m\u001b[0m\u001b[0m\n\u001b[0m\u001b[1;32m      3\u001b[0m \u001b[0;32mfrom\u001b[0m \u001b[0mselenium\u001b[0m\u001b[0;34m.\u001b[0m\u001b[0mwebdriver\u001b[0m\u001b[0;34m.\u001b[0m\u001b[0mchrome\u001b[0m\u001b[0;34m.\u001b[0m\u001b[0mservice\u001b[0m \u001b[0;32mimport\u001b[0m \u001b[0mService\u001b[0m\u001b[0;34m\u001b[0m\u001b[0;34m\u001b[0m\u001b[0m\n\u001b[1;32m      4\u001b[0m \u001b[0;32mfrom\u001b[0m \u001b[0mwebdriver_manager\u001b[0m\u001b[0;34m.\u001b[0m\u001b[0mchrome\u001b[0m \u001b[0;32mimport\u001b[0m \u001b[0mChromeDriverManager\u001b[0m\u001b[0;34m\u001b[0m\u001b[0;34m\u001b[0m\u001b[0m\n\u001b[1;32m      5\u001b[0m \u001b[0;32mfrom\u001b[0m \u001b[0mselenium\u001b[0m\u001b[0;34m.\u001b[0m\u001b[0mcommon\u001b[0m\u001b[0;34m.\u001b[0m\u001b[0mexceptions\u001b[0m \u001b[0;32mimport\u001b[0m \u001b[0mNoSuchElementException\u001b[0m\u001b[0;34m\u001b[0m\u001b[0;34m\u001b[0m\u001b[0m\n",
      "\u001b[0;31mModuleNotFoundError\u001b[0m: No module named 'selenium'"
     ]
    }
   ],
   "source": [
    "#pip install webdriver_manager\n",
    "from selenium import webdriver\n",
    "from selenium.webdriver.chrome.service import Service\n",
    "from webdriver_manager.chrome import ChromeDriverManager\n",
    "from selenium.common.exceptions import NoSuchElementException\n",
    "from selenium.webdriver.common.keys import Keys\n",
    "import pandas as pd\n",
    "import json\n",
    "import time \n"
   ]
  },
  {
   "cell_type": "code",
   "execution_count": 3,
   "metadata": {},
   "outputs": [
    {
     "name": "stdout",
     "output_type": "stream",
     "text": [
      "Collecting webdriver-manager\n",
      "  Using cached webdriver_manager-3.5.1-py2.py3-none-any.whl (17 kB)\n",
      "Collecting configparser\n",
      "  Using cached configparser-5.0.2-py3-none-any.whl (19 kB)\n",
      "Collecting crayons\n",
      "  Using cached crayons-0.4.0-py2.py3-none-any.whl (4.6 kB)\n",
      "Requirement already satisfied: requests in /usr/lib/python3/dist-packages (from webdriver-manager) (2.22.0)\n",
      "Requirement already satisfied: colorama in /usr/lib/python3/dist-packages (from crayons->webdriver-manager) (0.4.3)\n",
      "Installing collected packages: configparser, crayons, webdriver-manager\n",
      "Successfully installed configparser-5.0.2 crayons-0.4.0 webdriver-manager-3.5.1\n",
      "Note: you may need to restart the kernel to use updated packages.\n"
     ]
    }
   ],
   "source": [
    "pip install webdriver-manager"
   ]
  },
  {
   "cell_type": "code",
   "execution_count": 6,
   "metadata": {},
   "outputs": [
    {
     "data": {
      "text/plain": [
       "{'user': 'datos.mopc@mopcarg.onmicrosoft.com', 'pass': 'Foj27047'}"
      ]
     },
     "execution_count": 6,
     "metadata": {},
     "output_type": "execute_result"
    }
   ],
   "source": [
    "with open(\"credenciales.json\") as f:\n",
    "    keys=json.load(f)\n"
   ]
  },
  {
   "cell_type": "code",
   "execution_count": 269,
   "metadata": {},
   "outputs": [
    {
     "name": "stderr",
     "output_type": "stream",
     "text": [
      "[WDM] - \n",
      "\n",
      "[WDM] - ====== WebDriver manager ======\n",
      "[WDM] - Current google-chrome version is 88.0.4324\n",
      "[WDM] - Get LATEST driver version for 88.0.4324\n",
      "[WDM] - Driver [/home/nicolas/.wdm/drivers/chromedriver/linux64/88.0.4324.96/chromedriver] found in cache\n",
      "<ipython-input-269-36d01e5b9fde>:9: DeprecationWarning: find_element_by_* commands are deprecated. Please use find_element() instead\n",
      "  username = driver.find_element_by_id(\"i0116\")\n",
      "<ipython-input-269-36d01e5b9fde>:12: DeprecationWarning: find_element_by_* commands are deprecated. Please use find_element() instead\n",
      "  driver.find_element_by_id(\"idSIButton9\").click()\n",
      "<ipython-input-269-36d01e5b9fde>:16: DeprecationWarning: find_element_by_* commands are deprecated. Please use find_element() instead\n",
      "  password = driver.find_element_by_id(\"i0118\")\n",
      "<ipython-input-269-36d01e5b9fde>:19: DeprecationWarning: find_element_by_* commands are deprecated. Please use find_element() instead\n",
      "  driver.find_element_by_id(\"idSIButton9\").click()\n",
      "<ipython-input-269-36d01e5b9fde>:23: DeprecationWarning: find_element_by_* commands are deprecated. Please use find_element() instead\n",
      "  driver.find_element_by_id(\"idSIButton9\").click()\n"
     ]
    }
   ],
   "source": [
    "#LOGIN\n",
    "#URL \n",
    "url = \"https://login.microsoftonline.com/common/oauth2/authorize?client_id=871c010f-5e61-4fb1-83ac-98610a7e9110&response_type=code%20id_token&scope=openid%20profile%20offline_access&state=OpenIdConnect.AuthenticationProperties%3D9jJvf-HKPXR0xrliSXrVjvfyTFA6T-Eque2zFuyDRs1V9gqMb0nP73NyKRjOx4LnI915UR_SA4zUFhhAHRhde-JsWJHvX838IkcwxXcWP7_RbgiTHagOUvkCWH3MSqc0tCSpzCoxfhHPta5PnOgxfcM_NwDbQkPDiNgfsq-KB34kb0kQ3GuZ7UVHU4ei658P2R1TtwQoWXCAKV-rrZ7tomFIWz4RSN7EvaMTTMEDmbYs7r_E8UwSFC95fUipQ90D-nkLRPWmXFMYsaEWSrObjGXnAlni0qnJ9XBJjGahmuAXmxpd6PDRexoR3IN-JYMHL9RDdk_AcbOcHyahUA3mfg&response_mode=form_post&nonce=637703514318613038.M2E1ZjE2YzYtZDNiNi00ZWVmLThiY2QtZTdlMjRhYjNiMTJiNWM2NGQ4ZGMtNThmNC00MGU2LWIxOTktNmQ5MWQ2NjdhNjU5&site_id=500453&redirect_uri=https%3A%2F%2Fapp.powerbi.com%2Fgroups%2F1d9f683f-3da9-42d3-8156-b16f9d29237a%2Freports%2Ff307fdbb-9ccb-4b00-b0d4-46087fff5b53%2FReportSection&post_logout_redirect_uri=https%3A%2F%2Fapp.powerbi.com%2Fgroups%2F1d9f683f-3da9-42d3-8156-b16f9d29237a%2Freports%2Ff307fdbb-9ccb-4b00-b0d4-46087fff5b53%2FReportSection&resource=https%3A%2F%2Fanalysis.windows.net%2Fpowerbi%2Fapi&nux=1&msafed=0&x-client-SKU=ID_NET461&x-client-ver=5.6.0.0\"\n",
    "    \n",
    "s=Service(ChromeDriverManager().install())\n",
    "driver = webdriver.Chrome(service=s)\n",
    "driver.get(url)\n",
    "\n",
    "username = driver.find_element_by_id(\"i0116\")\n",
    "username.clear()\n",
    "username.send_keys(keys['user'])\n",
    "driver.find_element_by_id(\"idSIButton9\").click()\n",
    "\n",
    "time.sleep(2)\n",
    "\n",
    "password = driver.find_element_by_id(\"i0118\")\n",
    "password.clear()\n",
    "password.send_keys(keys['pass'])\n",
    "driver.find_element_by_id(\"idSIButton9\").click()\n",
    "\n",
    "time.sleep(3)\n",
    "\n",
    "driver.find_element_by_id(\"idSIButton9\").click()"
   ]
  },
  {
   "cell_type": "code",
   "execution_count": 270,
   "metadata": {},
   "outputs": [
    {
     "name": "stderr",
     "output_type": "stream",
     "text": [
      "<ipython-input-270-45db3052f7c5>:11: DeprecationWarning: find_element_by_* commands are deprecated. Please use find_element() instead\n",
      "  element = driver.find_element_by_xpath(\"//*[@id='workspace-list-nav']/div[2]/div/div/button[2]\")\n",
      "<ipython-input-270-45db3052f7c5>:16: DeprecationWarning: find_elements_by_* commands are deprecated. Please use find_elements() instead\n",
      "  elems = driver.find_elements_by_xpath(\"//*[@id='artifactContentList']/div/div/div/span/a\")\n"
     ]
    }
   ],
   "source": [
    "#LISTA DE TABLEROS\n",
    "# URL de la tab nueva\n",
    "url = \"https://app.powerbi.com/groups/1d9f683f-3da9-42d3-8156-b16f9d29237a/list\"\n",
    "driver.execute_script('''window.open(arguments[0],\"_blank\");''', url)\n",
    "\n",
    "time.sleep(3)\n",
    "\n",
    "driver.switch_to.window(driver.window_handles[len(driver.window_handles)-1])\n",
    "\n",
    "# contenidos\n",
    "element = driver.find_element_by_xpath(\"//*[@id='workspace-list-nav']/div[2]/div/div/button[2]\")\n",
    "driver.execute_script(\"arguments[0].click();\", element)\n",
    "\n",
    "\n",
    "# obtengo los elementos usando xpath\n",
    "elems = driver.find_elements_by_xpath(\"//*[@id='artifactContentList']/div/div/div/span/a\")\n",
    "\n",
    "# guardo en una lista\n",
    "a = [i.get_attribute(\"href\") for i in elems]\n",
    "\n"
   ]
  },
  {
   "cell_type": "code",
   "execution_count": 271,
   "metadata": {},
   "outputs": [
    {
     "data": {
      "text/plain": [
       "'https://app.powerbi.com/groups/1d9f683f-3da9-42d3-8156-b16f9d29237a/reports/6e3ead4b-b745-4339-9760-14ec81b668e8'"
      ]
     },
     "execution_count": 271,
     "metadata": {},
     "output_type": "execute_result"
    }
   ],
   "source": [
    "a[1]"
   ]
  },
  {
   "cell_type": "code",
   "execution_count": 272,
   "metadata": {},
   "outputs": [],
   "source": [
    "def descarga():\n",
    "    \n",
    "    time.sleep(15)\n",
    "    element = driver.find_element_by_xpath(\"//*[@id='exportMenuBtn']/span\")\n",
    "    driver.execute_script(\"arguments[0].click();\", element)\n",
    "    \n",
    "    time.sleep(1)\n",
    "    \n",
    "    element = driver.find_element_by_xpath(\"//*[@id='mat-menu-panel-6']/div/button[3]\")\n",
    "    driver.execute_script(\"arguments[0].click();\", element)\n",
    "    \n",
    "    time.sleep(2)\n",
    "    \n",
    "    element = driver.find_element_by_xpath(\"//*[@id='mat-dialog-0']/export-report-dialog/form/template-dialog/mat-dialog-actions/div/button[1]\")\n",
    "    driver.execute_script(\"arguments[0].click();\", element)\n",
    "\n"
   ]
  },
  {
   "cell_type": "code",
   "execution_count": 273,
   "metadata": {},
   "outputs": [
    {
     "name": "stderr",
     "output_type": "stream",
     "text": [
      "<ipython-input-272-c6261df7d038>:4: DeprecationWarning: find_element_by_* commands are deprecated. Please use find_element() instead\n",
      "  element = driver.find_element_by_xpath(\"//*[@id='exportMenuBtn']/span\")\n",
      "<ipython-input-272-c6261df7d038>:9: DeprecationWarning: find_element_by_* commands are deprecated. Please use find_element() instead\n",
      "  element = driver.find_element_by_xpath(\"//*[@id='mat-menu-panel-6']/div/button[3]\")\n",
      "<ipython-input-272-c6261df7d038>:14: DeprecationWarning: find_element_by_* commands are deprecated. Please use find_element() instead\n",
      "  element = driver.find_element_by_xpath(\"//*[@id='mat-dialog-0']/export-report-dialog/form/template-dialog/mat-dialog-actions/div/button[1]\")\n"
     ]
    }
   ],
   "source": [
    "for i in a:\n",
    "    # URL de la tab nueva\n",
    "    driver.execute_script('''window.open(arguments[0],\"_blank\");''', i)\n",
    "    driver.switch_to.window(driver.window_handles[len(driver.window_handles)-1])\n",
    "\n",
    "    try:\n",
    "        descarga()\n",
    "    except:\n",
    "        pass"
   ]
  }
 ],
 "metadata": {
  "interpreter": {
   "hash": "037c0e1902ab43a72a7cafe7ab910d3b7051652e1bade1bde11afba0d769f9a0"
  },
  "kernelspec": {
   "display_name": "Python 3",
   "language": "python",
   "name": "python3"
  },
  "language_info": {
   "codemirror_mode": {
    "name": "ipython",
    "version": 3
   },
   "file_extension": ".py",
   "mimetype": "text/x-python",
   "name": "python",
   "nbconvert_exporter": "python",
   "pygments_lexer": "ipython3",
   "version": "3.8.10"
  }
 },
 "nbformat": 4,
 "nbformat_minor": 2
}
