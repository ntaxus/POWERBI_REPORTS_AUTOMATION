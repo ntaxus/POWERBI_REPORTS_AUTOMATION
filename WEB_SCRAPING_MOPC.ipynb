{
 "cells": [
  {
   "cell_type": "code",
   "execution_count": 4,
   "source": [
    "from selenium import webdriver\n",
    "from selenium.webdriver.chrome.service import Service\n",
    "from webdriver_manager.chrome import ChromeDriverManager\n",
    "from selenium.common.exceptions import NoSuchElementException\n",
    "from selenium.webdriver.common.keys import Keys\n",
    "import pandas as pd\n",
    "import json\n",
    "import time \n"
   ],
   "outputs": [],
   "metadata": {}
  },
  {
   "cell_type": "code",
   "execution_count": 6,
   "source": [
    "with open(\"credenciales.json\") as f:\n",
    "    keys=json.load(f)\n"
   ],
   "outputs": [
    {
     "output_type": "execute_result",
     "data": {
      "text/plain": [
       "{'user': 'datos.mopc@mopcarg.onmicrosoft.com', 'pass': 'Foj27047'}"
      ]
     },
     "metadata": {},
     "execution_count": 6
    }
   ],
   "metadata": {}
  },
  {
   "cell_type": "code",
   "execution_count": 269,
   "source": [
    "#LOGIN\n",
    "#URL \n",
    "url = \"https://login.microsoftonline.com/common/oauth2/authorize?client_id=871c010f-5e61-4fb1-83ac-98610a7e9110&response_type=code%20id_token&scope=openid%20profile%20offline_access&state=OpenIdConnect.AuthenticationProperties%3D9jJvf-HKPXR0xrliSXrVjvfyTFA6T-Eque2zFuyDRs1V9gqMb0nP73NyKRjOx4LnI915UR_SA4zUFhhAHRhde-JsWJHvX838IkcwxXcWP7_RbgiTHagOUvkCWH3MSqc0tCSpzCoxfhHPta5PnOgxfcM_NwDbQkPDiNgfsq-KB34kb0kQ3GuZ7UVHU4ei658P2R1TtwQoWXCAKV-rrZ7tomFIWz4RSN7EvaMTTMEDmbYs7r_E8UwSFC95fUipQ90D-nkLRPWmXFMYsaEWSrObjGXnAlni0qnJ9XBJjGahmuAXmxpd6PDRexoR3IN-JYMHL9RDdk_AcbOcHyahUA3mfg&response_mode=form_post&nonce=637703514318613038.M2E1ZjE2YzYtZDNiNi00ZWVmLThiY2QtZTdlMjRhYjNiMTJiNWM2NGQ4ZGMtNThmNC00MGU2LWIxOTktNmQ5MWQ2NjdhNjU5&site_id=500453&redirect_uri=https%3A%2F%2Fapp.powerbi.com%2Fgroups%2F1d9f683f-3da9-42d3-8156-b16f9d29237a%2Freports%2Ff307fdbb-9ccb-4b00-b0d4-46087fff5b53%2FReportSection&post_logout_redirect_uri=https%3A%2F%2Fapp.powerbi.com%2Fgroups%2F1d9f683f-3da9-42d3-8156-b16f9d29237a%2Freports%2Ff307fdbb-9ccb-4b00-b0d4-46087fff5b53%2FReportSection&resource=https%3A%2F%2Fanalysis.windows.net%2Fpowerbi%2Fapi&nux=1&msafed=0&x-client-SKU=ID_NET461&x-client-ver=5.6.0.0\"\n",
    "    \n",
    "s=Service(ChromeDriverManager().install())\n",
    "driver = webdriver.Chrome(service=s)\n",
    "driver.get(url)\n",
    "\n",
    "username = driver.find_element_by_id(\"i0116\")\n",
    "username.clear()\n",
    "username.send_keys(keys['user'])\n",
    "driver.find_element_by_id(\"idSIButton9\").click()\n",
    "\n",
    "time.sleep(2)\n",
    "\n",
    "password = driver.find_element_by_id(\"i0118\")\n",
    "password.clear()\n",
    "password.send_keys(keys['pass'])\n",
    "driver.find_element_by_id(\"idSIButton9\").click()\n",
    "\n",
    "time.sleep(3)\n",
    "\n",
    "driver.find_element_by_id(\"idSIButton9\").click()"
   ],
   "outputs": [
    {
     "output_type": "stream",
     "name": "stderr",
     "text": [
      "[WDM] - \n",
      "\n",
      "[WDM] - ====== WebDriver manager ======\n",
      "[WDM] - Current google-chrome version is 88.0.4324\n",
      "[WDM] - Get LATEST driver version for 88.0.4324\n",
      "[WDM] - Driver [/home/nicolas/.wdm/drivers/chromedriver/linux64/88.0.4324.96/chromedriver] found in cache\n",
      "<ipython-input-269-36d01e5b9fde>:9: DeprecationWarning: find_element_by_* commands are deprecated. Please use find_element() instead\n",
      "  username = driver.find_element_by_id(\"i0116\")\n",
      "<ipython-input-269-36d01e5b9fde>:12: DeprecationWarning: find_element_by_* commands are deprecated. Please use find_element() instead\n",
      "  driver.find_element_by_id(\"idSIButton9\").click()\n",
      "<ipython-input-269-36d01e5b9fde>:16: DeprecationWarning: find_element_by_* commands are deprecated. Please use find_element() instead\n",
      "  password = driver.find_element_by_id(\"i0118\")\n",
      "<ipython-input-269-36d01e5b9fde>:19: DeprecationWarning: find_element_by_* commands are deprecated. Please use find_element() instead\n",
      "  driver.find_element_by_id(\"idSIButton9\").click()\n",
      "<ipython-input-269-36d01e5b9fde>:23: DeprecationWarning: find_element_by_* commands are deprecated. Please use find_element() instead\n",
      "  driver.find_element_by_id(\"idSIButton9\").click()\n"
     ]
    }
   ],
   "metadata": {}
  },
  {
   "cell_type": "code",
   "execution_count": 270,
   "source": [
    "#LISTA DE TABLEROS\n",
    "# URL de la tab nueva\n",
    "url = \"https://app.powerbi.com/groups/1d9f683f-3da9-42d3-8156-b16f9d29237a/list\"\n",
    "driver.execute_script('''window.open(arguments[0],\"_blank\");''', url)\n",
    "\n",
    "time.sleep(3)\n",
    "\n",
    "driver.switch_to.window(driver.window_handles[len(driver.window_handles)-1])\n",
    "\n",
    "# contenidos\n",
    "element = driver.find_element_by_xpath(\"//*[@id='workspace-list-nav']/div[2]/div/div/button[2]\")\n",
    "driver.execute_script(\"arguments[0].click();\", element)\n",
    "\n",
    "\n",
    "# obtengo los elementos usando xpath\n",
    "elems = driver.find_elements_by_xpath(\"//*[@id='artifactContentList']/div/div/div/span/a\")\n",
    "\n",
    "# guardo en una lista\n",
    "a = [i.get_attribute(\"href\") for i in elems]\n",
    "\n"
   ],
   "outputs": [
    {
     "output_type": "stream",
     "name": "stderr",
     "text": [
      "<ipython-input-270-45db3052f7c5>:11: DeprecationWarning: find_element_by_* commands are deprecated. Please use find_element() instead\n",
      "  element = driver.find_element_by_xpath(\"//*[@id='workspace-list-nav']/div[2]/div/div/button[2]\")\n",
      "<ipython-input-270-45db3052f7c5>:16: DeprecationWarning: find_elements_by_* commands are deprecated. Please use find_elements() instead\n",
      "  elems = driver.find_elements_by_xpath(\"//*[@id='artifactContentList']/div/div/div/span/a\")\n"
     ]
    }
   ],
   "metadata": {}
  },
  {
   "cell_type": "code",
   "execution_count": 271,
   "source": [
    "a[1]"
   ],
   "outputs": [
    {
     "output_type": "execute_result",
     "data": {
      "text/plain": [
       "'https://app.powerbi.com/groups/1d9f683f-3da9-42d3-8156-b16f9d29237a/reports/6e3ead4b-b745-4339-9760-14ec81b668e8'"
      ]
     },
     "metadata": {},
     "execution_count": 271
    }
   ],
   "metadata": {}
  },
  {
   "cell_type": "code",
   "execution_count": 272,
   "source": [
    "def descarga():\n",
    "    \n",
    "    time.sleep(15)\n",
    "    element = driver.find_element_by_xpath(\"//*[@id='exportMenuBtn']/span\")\n",
    "    driver.execute_script(\"arguments[0].click();\", element)\n",
    "    \n",
    "    time.sleep(1)\n",
    "    \n",
    "    element = driver.find_element_by_xpath(\"//*[@id='mat-menu-panel-6']/div/button[3]\")\n",
    "    driver.execute_script(\"arguments[0].click();\", element)\n",
    "    \n",
    "    time.sleep(2)\n",
    "    \n",
    "    element = driver.find_element_by_xpath(\"//*[@id='mat-dialog-0']/export-report-dialog/form/template-dialog/mat-dialog-actions/div/button[1]\")\n",
    "    driver.execute_script(\"arguments[0].click();\", element)\n",
    "\n"
   ],
   "outputs": [],
   "metadata": {}
  },
  {
   "cell_type": "code",
   "execution_count": 273,
   "source": [
    "for i in a:\n",
    "    # URL de la tab nueva\n",
    "    driver.execute_script('''window.open(arguments[0],\"_blank\");''', i)\n",
    "    driver.switch_to.window(driver.window_handles[len(driver.window_handles)-1])\n",
    "\n",
    "    try:\n",
    "        descarga()\n",
    "    except:\n",
    "        pass"
   ],
   "outputs": [
    {
     "output_type": "stream",
     "name": "stderr",
     "text": [
      "<ipython-input-272-c6261df7d038>:4: DeprecationWarning: find_element_by_* commands are deprecated. Please use find_element() instead\n",
      "  element = driver.find_element_by_xpath(\"//*[@id='exportMenuBtn']/span\")\n",
      "<ipython-input-272-c6261df7d038>:9: DeprecationWarning: find_element_by_* commands are deprecated. Please use find_element() instead\n",
      "  element = driver.find_element_by_xpath(\"//*[@id='mat-menu-panel-6']/div/button[3]\")\n",
      "<ipython-input-272-c6261df7d038>:14: DeprecationWarning: find_element_by_* commands are deprecated. Please use find_element() instead\n",
      "  element = driver.find_element_by_xpath(\"//*[@id='mat-dialog-0']/export-report-dialog/form/template-dialog/mat-dialog-actions/div/button[1]\")\n"
     ]
    }
   ],
   "metadata": {}
  }
 ],
 "metadata": {
  "interpreter": {
   "hash": "835a232c94d8de34bc6e209d7864f7e42af0fb5ba5b0657996bf95a1505cdbab"
  },
  "kernelspec": {
   "name": "python3",
   "display_name": "Python 3.8.12 64-bit ('powerbi-automation': conda)"
  },
  "language_info": {
   "codemirror_mode": {
    "name": "ipython",
    "version": 3
   },
   "file_extension": ".py",
   "mimetype": "text/x-python",
   "name": "python",
   "nbconvert_exporter": "python",
   "pygments_lexer": "ipython3",
   "version": "3.8.12"
  }
 },
 "nbformat": 4,
 "nbformat_minor": 2
}